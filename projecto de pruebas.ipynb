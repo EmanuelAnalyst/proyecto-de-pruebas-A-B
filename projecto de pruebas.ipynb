{
 "cells": [
  {
   "cell_type": "markdown",
   "metadata": {},
   "source": [
    "<h1 style=\"font-size:40px;\">Proyecto de pruebas A/B</h1> "
   ]
  },
  {
   "cell_type": "markdown",
   "metadata": {},
   "source": [
    "<h1 style=\"font-size:20px;\">Descripción del proyecto</h1>  "
   ]
  },
  {
   "cell_type": "markdown",
   "metadata": {},
   "source": [
    "El objetivo de este análisis es evaluar el impacto de un nuevo sistema de recomendaciones implementado en una tienda en línea internacional. A través de una prueba A/B, se busca determinar si este nuevo sistema mejora la conversión de usuarios en tres etapas clave del embudo: visualización de productos, agregar al carrito y compra.\n",
    "\n",
    "La prueba comparará el comportamiento de dos grupos de usuarios (control y experimental) durante los primeros 14 días tras su registro. El objetivo principal es identificar mejoras significativas en cada etapa, con un aumento esperado de al menos un 10%.\n",
    "\n",
    "El análisis incluirá limpieza de datos, revisión de conversiones, y la aplicación de pruebas estadísticas para evaluar si los cambios propuestos aportaban un beneficio real."
   ]
  },
  {
   "cell_type": "markdown",
   "metadata": {},
   "source": [
    "<h1 style=\"font-size:40px;\">Análisis exploratorio de datos</h1> "
   ]
  },
  {
   "cell_type": "code",
   "execution_count": 1,
   "metadata": {},
   "outputs": [],
   "source": [
    "import pandas as pd\n",
    "import seaborn as sns\n",
    "import matplotlib.pyplot as plt\n",
    "from statsmodels.stats.proportion import proportions_ztest"
   ]
  },
  {
   "cell_type": "markdown",
   "metadata": {},
   "source": [
    "<h1 style=\"font-size:20px;\">DataFrame 1</h1> "
   ]
  },
  {
   "cell_type": "code",
   "execution_count": 2,
   "metadata": {},
   "outputs": [
    {
     "name": "stdout",
     "output_type": "stream",
     "text": [
      "                                name                   regions    start_dt  \\\n",
      "0           Christmas&New Year Promo             EU, N.America  2020-12-25   \n",
      "1       St. Valentine's Day Giveaway  EU, CIS, APAC, N.America  2020-02-14   \n",
      "2             St. Patric's Day Promo             EU, N.America  2020-03-17   \n",
      "3                       Easter Promo  EU, CIS, APAC, N.America  2020-04-12   \n",
      "4                  4th of July Promo                 N.America  2020-07-04   \n",
      "5          Black Friday Ads Campaign  EU, CIS, APAC, N.America  2020-11-26   \n",
      "6             Chinese New Year Promo                      APAC  2020-01-25   \n",
      "7   Labor day (May 1st) Ads Campaign             EU, CIS, APAC  2020-05-01   \n",
      "8    International Women's Day Promo             EU, CIS, APAC  2020-03-08   \n",
      "9    Victory Day CIS (May 9th) Event                       CIS  2020-05-09   \n",
      "10         CIS New Year Gift Lottery                       CIS  2020-12-30   \n",
      "11     Dragon Boat Festival Giveaway                      APAC  2020-06-25   \n",
      "12           Single's Day Gift Promo                      APAC  2020-11-11   \n",
      "13             Chinese Moon Festival                      APAC  2020-10-01   \n",
      "\n",
      "     finish_dt  \n",
      "0   2021-01-03  \n",
      "1   2020-02-16  \n",
      "2   2020-03-19  \n",
      "3   2020-04-19  \n",
      "4   2020-07-11  \n",
      "5   2020-12-01  \n",
      "6   2020-02-07  \n",
      "7   2020-05-03  \n",
      "8   2020-03-10  \n",
      "9   2020-05-11  \n",
      "10  2021-01-07  \n",
      "11  2020-07-01  \n",
      "12  2020-11-12  \n",
      "13  2020-10-07  \n"
     ]
    }
   ],
   "source": [
    "df_project = pd.read_csv('/datasets/ab_project_marketing_events_us.csv')\n",
    "print(df_project)"
   ]
  },
  {
   "cell_type": "code",
   "execution_count": 3,
   "metadata": {},
   "outputs": [
    {
     "name": "stdout",
     "output_type": "stream",
     "text": [
      "<class 'pandas.core.frame.DataFrame'>\n",
      "RangeIndex: 14 entries, 0 to 13\n",
      "Data columns (total 4 columns):\n",
      " #   Column     Non-Null Count  Dtype \n",
      "---  ------     --------------  ----- \n",
      " 0   name       14 non-null     object\n",
      " 1   regions    14 non-null     object\n",
      " 2   start_dt   14 non-null     object\n",
      " 3   finish_dt  14 non-null     object\n",
      "dtypes: object(4)\n",
      "memory usage: 576.0+ bytes\n",
      "None\n"
     ]
    }
   ],
   "source": [
    "print(df_project.info())"
   ]
  },
  {
   "cell_type": "markdown",
   "metadata": {},
   "source": [
    "<div class=\"alert alert-block alert-success\">\n",
    "<b>Celda [3]</b> <a class=\"tocSkip\"></a><br>\n",
    "Has utilizado correctamente las funciones estadísticas para obtener una visión inicial del conjunto de datos. Este análisis preliminar es fundamental para entender el contexto de los datos y planificar los siguientes pasos del análisis.\n",
    "</div>\n"
   ]
  },
  {
   "cell_type": "code",
   "execution_count": 4,
   "metadata": {},
   "outputs": [
    {
     "name": "stdout",
     "output_type": "stream",
     "text": [
      "<class 'pandas.core.frame.DataFrame'>\n",
      "RangeIndex: 14 entries, 0 to 13\n",
      "Data columns (total 4 columns):\n",
      " #   Column     Non-Null Count  Dtype         \n",
      "---  ------     --------------  -----         \n",
      " 0   name       14 non-null     object        \n",
      " 1   regions    14 non-null     object        \n",
      " 2   start_dt   14 non-null     datetime64[ns]\n",
      " 3   finish_dt  14 non-null     datetime64[ns]\n",
      "dtypes: datetime64[ns](2), object(2)\n",
      "memory usage: 576.0+ bytes\n",
      "None\n"
     ]
    }
   ],
   "source": [
    "df_project['start_dt'] = pd.to_datetime(df_project['start_dt'], format='%Y-%m-%d')\n",
    "df_project['finish_dt'] = pd.to_datetime(df_project['finish_dt'], format='%Y-%m-%d')\n",
    "\n",
    "print(df_project.info())"
   ]
  },
  {
   "cell_type": "markdown",
   "metadata": {},
   "source": [
    "<div class=\"alert alert-block alert-warning\">\n",
    "<b>Celda [4]</b> <a class=\"tocSkip\"></a><br>\n",
    "Has convertido correctamente las columnas de fecha a formato datetime. Esto es crucial para realizar análisis de series temporales y garantizar la precisión en el manejo de fechas. Asegúrate de aplicar este paso a todos los conjuntos de datos donde las fechas sean relevantes.\n",
    "</div>\n"
   ]
  },
  {
   "cell_type": "code",
   "execution_count": 5,
   "metadata": {},
   "outputs": [
    {
     "name": "stdout",
     "output_type": "stream",
     "text": [
      "name         0\n",
      "regions      0\n",
      "start_dt     0\n",
      "finish_dt    0\n",
      "dtype: int64\n"
     ]
    }
   ],
   "source": [
    "print(df_project.isnull().sum())        "
   ]
  },
  {
   "cell_type": "markdown",
   "metadata": {},
   "source": [
    "<div class=\"alert alert-block alert-success\">\n",
    "<b>Celda [5]</b> <a class=\"tocSkip\"></a><br>\n",
    "Has comprobado los valores nulos.\n",
    "</div>\n"
   ]
  },
  {
   "cell_type": "code",
   "execution_count": 6,
   "metadata": {},
   "outputs": [
    {
     "name": "stdout",
     "output_type": "stream",
     "text": [
      "0\n"
     ]
    }
   ],
   "source": [
    "print(df_project.duplicated().sum())"
   ]
  },
  {
   "cell_type": "markdown",
   "metadata": {},
   "source": [
    "<div class=\"alert alert-block alert-success\">\n",
    "<b>Celda [6]</b> <a class=\"tocSkip\"></a><br>\n",
    "Excelente trabajo al verificar y confirmar que no hay duplicados en el conjunto de datos. Esto asegura que el análisis posterior se base en datos únicos y precisos, evitando sesgos en los resultados.\n",
    "</div>\n"
   ]
  },
  {
   "cell_type": "markdown",
   "metadata": {},
   "source": [
    "<h1 style=\"font-size:20px;\">DataFrame 2</h1> "
   ]
  },
  {
   "cell_type": "code",
   "execution_count": 7,
   "metadata": {},
   "outputs": [
    {
     "name": "stdout",
     "output_type": "stream",
     "text": [
      "                user_id  first_date     region   device\n",
      "0      D72A72121175D8BE  2020-12-07         EU       PC\n",
      "1      F1C668619DFE6E65  2020-12-07  N.America  Android\n",
      "2      2E1BF1D4C37EA01F  2020-12-07         EU       PC\n",
      "3      50734A22C0C63768  2020-12-07         EU   iPhone\n",
      "4      E1BDDCE0DAFA2679  2020-12-07  N.America   iPhone\n",
      "...                 ...         ...        ...      ...\n",
      "58698  1DB53B933257165D  2020-12-20         EU  Android\n",
      "58699  538643EB4527ED03  2020-12-20         EU      Mac\n",
      "58700  7ADEE837D5D8CBBD  2020-12-20         EU       PC\n",
      "58701  1C7D23927835213F  2020-12-20         EU   iPhone\n",
      "58702  8F04273BB2860229  2020-12-20         EU  Android\n",
      "\n",
      "[58703 rows x 4 columns]\n"
     ]
    }
   ],
   "source": [
    "df_new_users = pd.read_csv('/datasets/final_ab_new_users_upd_us.csv')\n",
    "print(df_new_users)"
   ]
  },
  {
   "cell_type": "code",
   "execution_count": 8,
   "metadata": {},
   "outputs": [
    {
     "name": "stdout",
     "output_type": "stream",
     "text": [
      "<class 'pandas.core.frame.DataFrame'>\n",
      "RangeIndex: 58703 entries, 0 to 58702\n",
      "Data columns (total 4 columns):\n",
      " #   Column      Non-Null Count  Dtype \n",
      "---  ------      --------------  ----- \n",
      " 0   user_id     58703 non-null  object\n",
      " 1   first_date  58703 non-null  object\n",
      " 2   region      58703 non-null  object\n",
      " 3   device      58703 non-null  object\n",
      "dtypes: object(4)\n",
      "memory usage: 1.8+ MB\n",
      "None\n"
     ]
    }
   ],
   "source": [
    "print(df_new_users.info())"
   ]
  },
  {
   "cell_type": "code",
   "execution_count": 9,
   "metadata": {},
   "outputs": [
    {
     "name": "stdout",
     "output_type": "stream",
     "text": [
      "<class 'pandas.core.frame.DataFrame'>\n",
      "RangeIndex: 58703 entries, 0 to 58702\n",
      "Data columns (total 4 columns):\n",
      " #   Column      Non-Null Count  Dtype         \n",
      "---  ------      --------------  -----         \n",
      " 0   user_id     58703 non-null  object        \n",
      " 1   first_date  58703 non-null  datetime64[ns]\n",
      " 2   region      58703 non-null  object        \n",
      " 3   device      58703 non-null  object        \n",
      "dtypes: datetime64[ns](1), object(3)\n",
      "memory usage: 1.8+ MB\n",
      "None\n"
     ]
    }
   ],
   "source": [
    "df_new_users['first_date'] = pd.to_datetime(df_new_users['first_date'], format='%Y-%m-%d')\n",
    "print(df_new_users.info())"
   ]
  },
  {
   "cell_type": "markdown",
   "metadata": {},
   "source": [
    "<div class=\"alert alert-block alert-success\">\n",
    "<b>Celda [9]</b> <a class=\"tocSkip\"></a><br>\n",
    "Has convertido correctamente las fechas en el conjunto de datos de nuevos usuarios. \n",
    "</div>\n"
   ]
  },
  {
   "cell_type": "code",
   "execution_count": 10,
   "metadata": {},
   "outputs": [
    {
     "name": "stdout",
     "output_type": "stream",
     "text": [
      "user_id       0\n",
      "first_date    0\n",
      "region        0\n",
      "device        0\n",
      "dtype: int64\n"
     ]
    }
   ],
   "source": [
    "print(df_new_users.isnull().sum())"
   ]
  },
  {
   "cell_type": "code",
   "execution_count": 11,
   "metadata": {},
   "outputs": [
    {
     "name": "stdout",
     "output_type": "stream",
     "text": [
      "0\n"
     ]
    }
   ],
   "source": [
    "print(df_new_users.duplicated().sum())"
   ]
  },
  {
   "cell_type": "markdown",
   "metadata": {},
   "source": [
    "<h1 style=\"font-size:20px;\">DataFrame 3</h1> "
   ]
  },
  {
   "cell_type": "code",
   "execution_count": 12,
   "metadata": {},
   "outputs": [
    {
     "name": "stdout",
     "output_type": "stream",
     "text": [
      "                 user_id             event_dt event_name  details\n",
      "0       E1BDDCE0DAFA2679  2020-12-07 20:22:03   purchase    99.99\n",
      "1       7B6452F081F49504  2020-12-07 09:22:53   purchase     9.99\n",
      "2       9CD9F34546DF254C  2020-12-07 12:59:29   purchase     4.99\n",
      "3       96F27A054B191457  2020-12-07 04:02:40   purchase     4.99\n",
      "4       1FD7660FDF94CA1F  2020-12-07 10:15:09   purchase     4.99\n",
      "...                  ...                  ...        ...      ...\n",
      "423756  245E85F65C358E08  2020-12-30 19:35:55      login      NaN\n",
      "423757  9385A108F5A0A7A7  2020-12-30 10:54:15      login      NaN\n",
      "423758  DB650B7559AC6EAC  2020-12-30 10:59:09      login      NaN\n",
      "423759  F80C9BDDEA02E53C  2020-12-30 09:53:39      login      NaN\n",
      "423760  7AEC61159B672CC5  2020-12-30 11:36:13      login      NaN\n",
      "\n",
      "[423761 rows x 4 columns]\n"
     ]
    }
   ],
   "source": [
    "df_events = pd.read_csv('/datasets/final_ab_events_upd_us.csv')\n",
    "print(df_events)"
   ]
  },
  {
   "cell_type": "code",
   "execution_count": 13,
   "metadata": {},
   "outputs": [
    {
     "name": "stdout",
     "output_type": "stream",
     "text": [
      "<class 'pandas.core.frame.DataFrame'>\n",
      "RangeIndex: 423761 entries, 0 to 423760\n",
      "Data columns (total 4 columns):\n",
      " #   Column      Non-Null Count   Dtype  \n",
      "---  ------      --------------   -----  \n",
      " 0   user_id     423761 non-null  object \n",
      " 1   event_dt    423761 non-null  object \n",
      " 2   event_name  423761 non-null  object \n",
      " 3   details     60314 non-null   float64\n",
      "dtypes: float64(1), object(3)\n",
      "memory usage: 12.9+ MB\n",
      "None\n"
     ]
    }
   ],
   "source": [
    "print(df_events.info())"
   ]
  },
  {
   "cell_type": "markdown",
   "metadata": {},
   "source": [
    "<div class=\"alert alert-block alert-success\">\n",
    "<b>Celda [13]</b> <a class=\"tocSkip\"></a><br>\n",
    "La revisión detallada de la información del conjunto de datos de eventos es un paso importante para garantizar que los datos estén completos y sean precisos antes de cualquier análisis adicional. Esto te permitirá detectar posibles inconsistencias o errores tempranamente.\n",
    "</div>\n"
   ]
  },
  {
   "cell_type": "code",
   "execution_count": 14,
   "metadata": {},
   "outputs": [
    {
     "name": "stdout",
     "output_type": "stream",
     "text": [
      "<class 'pandas.core.frame.DataFrame'>\n",
      "RangeIndex: 423761 entries, 0 to 423760\n",
      "Data columns (total 4 columns):\n",
      " #   Column      Non-Null Count   Dtype         \n",
      "---  ------      --------------   -----         \n",
      " 0   user_id     423761 non-null  object        \n",
      " 1   event_dt    423761 non-null  datetime64[ns]\n",
      " 2   event_name  423761 non-null  object        \n",
      " 3   details     60314 non-null   float64       \n",
      "dtypes: datetime64[ns](1), float64(1), object(2)\n",
      "memory usage: 12.9+ MB\n",
      "None\n"
     ]
    }
   ],
   "source": [
    "df_events['event_dt'] = pd.to_datetime(df_events['event_dt'], format='%Y-%m-%d %H:%M:%S')\n",
    "print(df_events.info())"
   ]
  },
  {
   "cell_type": "code",
   "execution_count": 15,
   "metadata": {},
   "outputs": [
    {
     "name": "stdout",
     "output_type": "stream",
     "text": [
      "user_id            0\n",
      "event_dt           0\n",
      "event_name         0\n",
      "details       363447\n",
      "dtype: int64\n"
     ]
    }
   ],
   "source": [
    "print(df_events.isnull().sum())"
   ]
  },
  {
   "cell_type": "code",
   "execution_count": 16,
   "metadata": {},
   "outputs": [
    {
     "data": {
      "text/plain": [
       "login           182465\n",
       "product_page    120862\n",
       "product_cart     60120\n",
       "Name: event_name, dtype: int64"
      ]
     },
     "execution_count": 16,
     "metadata": {},
     "output_type": "execute_result"
    }
   ],
   "source": [
    "df_events[df_events['details'].isna()]['event_name'].value_counts()"
   ]
  },
  {
   "cell_type": "code",
   "execution_count": 17,
   "metadata": {},
   "outputs": [
    {
     "name": "stdout",
     "output_type": "stream",
     "text": [
      "0\n"
     ]
    }
   ],
   "source": [
    "print(df_events.duplicated().sum())"
   ]
  },
  {
   "cell_type": "markdown",
   "metadata": {},
   "source": [
    "<div class=\"alert alert-block alert-success\">\n",
    "<b>Celda [17]</b> <a class=\"tocSkip\"></a><br>\n",
    "Has verificado duplicados en el conjunto de datos de eventos. \n",
    "</div>\n"
   ]
  },
  {
   "cell_type": "markdown",
   "metadata": {},
   "source": [
    "<h1 style=\"font-size:20px;\">DataFrame 4</h1> "
   ]
  },
  {
   "cell_type": "code",
   "execution_count": 18,
   "metadata": {},
   "outputs": [
    {
     "name": "stdout",
     "output_type": "stream",
     "text": [
      "                user_id group                  ab_test\n",
      "0      D1ABA3E2887B6A73     A  recommender_system_test\n",
      "1      A7A3664BD6242119     A  recommender_system_test\n",
      "2      DABC14FDDFADD29E     A  recommender_system_test\n",
      "3      04988C5DF189632E     A  recommender_system_test\n",
      "4      4FF2998A348C484F     A  recommender_system_test\n",
      "...                 ...   ...                      ...\n",
      "14520  1D302F8688B91781     B        interface_eu_test\n",
      "14521  3DE51B726983B657     A        interface_eu_test\n",
      "14522  F501F79D332BE86C     A        interface_eu_test\n",
      "14523  63FBE257B05F2245     A        interface_eu_test\n",
      "14524  79F9ABFB029CF724     B        interface_eu_test\n",
      "\n",
      "[14525 rows x 3 columns]\n"
     ]
    }
   ],
   "source": [
    "df_participants = pd.read_csv('/datasets/final_ab_participants_upd_us.csv')\n",
    "print(df_participants)"
   ]
  },
  {
   "cell_type": "code",
   "execution_count": 19,
   "metadata": {},
   "outputs": [
    {
     "name": "stdout",
     "output_type": "stream",
     "text": [
      "                user_id group                  ab_test\n",
      "0      D1ABA3E2887B6A73     A  recommender_system_test\n",
      "1      A7A3664BD6242119     A  recommender_system_test\n",
      "2      DABC14FDDFADD29E     A  recommender_system_test\n",
      "3      04988C5DF189632E     A  recommender_system_test\n",
      "4      4FF2998A348C484F     A  recommender_system_test\n",
      "...                 ...   ...                      ...\n",
      "14520  1D302F8688B91781     B        interface_eu_test\n",
      "14521  3DE51B726983B657     A        interface_eu_test\n",
      "14522  F501F79D332BE86C     A        interface_eu_test\n",
      "14523  63FBE257B05F2245     A        interface_eu_test\n",
      "14524  79F9ABFB029CF724     B        interface_eu_test\n",
      "\n",
      "[14525 rows x 3 columns]\n"
     ]
    }
   ],
   "source": [
    "print(df_participants)"
   ]
  },
  {
   "cell_type": "code",
   "execution_count": 20,
   "metadata": {},
   "outputs": [
    {
     "name": "stdout",
     "output_type": "stream",
     "text": [
      "user_id    0\n",
      "group      0\n",
      "ab_test    0\n",
      "dtype: int64\n"
     ]
    }
   ],
   "source": [
    "print(df_participants.isnull().sum())"
   ]
  },
  {
   "cell_type": "code",
   "execution_count": 21,
   "metadata": {},
   "outputs": [
    {
     "name": "stdout",
     "output_type": "stream",
     "text": [
      "0\n"
     ]
    }
   ],
   "source": [
    "print(df_participants.duplicated().sum())"
   ]
  },
  {
   "cell_type": "markdown",
   "metadata": {},
   "source": [
    "¿Es necesario convertir los tipos?\n",
    "¿Hay valores ausentes o duplicados? Si es así, ¿cómo los caracterizarías?"
   ]
  },
  {
   "cell_type": "markdown",
   "metadata": {},
   "source": [
    "Si,  se identificó que varias columnas con fechas estaban almacenadas como tipo object, lo cual impide realizar operaciones de tiempo por lo que fueron cambiadas a tipo datetime ya que es necesario a para poder comparar fechas, agrupar eventos por día, filtrar por ventanas de tiempo (por ejemplo, los primeros 14 días tras el registro del usuario) y ordenar cronológicamente los datos.\n",
    "\n",
    "\n",
    "La única columna con valores nulos fue details, que contiene información adicional sobre ciertos eventos (como el monto de una compra en el caso del evento purchase). Para checar si estos NaN eran podian causar un problema en el analisis, se identificó en qué eventos aparecen los valores faltantes.\n",
    "\n",
    "\n",
    "Los eventos sin información en details corresponden a acciones que naturalmente no requieren un valor adicional, como iniciar sesión (login), ver una página de producto (product_page), agregar al carrito (product_cart), por lo que los valores NaN se dejaron tal cual, ya que no representan datos faltantes incorrectamente, sino campos que simplemente no aplican para esos eventos.\n",
    "\n",
    "No se detectaron valores ausentes ni duplicados en los otros dataframes.\n",
    "\n"
   ]
  },
  {
   "cell_type": "markdown",
   "metadata": {},
   "source": [
    "<h1 style=\"font-size:40px;\">Análisis exploratorio de datos</h1> "
   ]
  },
  {
   "cell_type": "markdown",
   "metadata": {},
   "source": [
    "<h1 style=\"font-size:20px;\">Estudiar la conversión en las diferentes etapas del embudo.</h1>  "
   ]
  },
  {
   "cell_type": "code",
   "execution_count": 22,
   "metadata": {},
   "outputs": [
    {
     "name": "stdout",
     "output_type": "stream",
     "text": [
      "       product_page_%  product_cart_%  purchase_%\n",
      "group                                            \n",
      "A               31.53           66.14       34.06\n",
      "B               32.83           64.24       32.36\n"
     ]
    }
   ],
   "source": [
    "eventos_embudo = ['product_page', 'product_cart', 'purchase']\n",
    "df_embudo = df_events[df_events['event_name'].isin(eventos_embudo)]\n",
    "\n",
    "\n",
    "df_merged = df_embudo.merge(df_participants, on='user_id')\n",
    "\n",
    "\n",
    "usuarios_por_evento = df_merged.groupby(['group', 'event_name'])['user_id'].nunique().unstack()\n",
    "\n",
    "\n",
    "usuarios_totales = df_participants.groupby('group')['user_id'].nunique()\n",
    "\n",
    "\n",
    "conversion = usuarios_por_evento.divide(usuarios_totales, axis=0) * 100\n",
    "\n",
    "\n",
    "conversion.columns = ['product_page_%', 'product_cart_%', 'purchase_%']\n",
    "\n",
    "\n",
    "print(conversion.round(2))"
   ]
  },
  {
   "cell_type": "markdown",
   "metadata": {},
   "source": [
    "<div class=\"alert alert-block alert-success\">\n",
    "<b>Celda [22]</b> <a class=\"tocSkip\"></a><br>\n",
    "Has calculado correctamente las tasas de conversión para cada evento en el embudo. Esto proporciona una visión clara de cómo los usuarios progresan a través de los diferentes pasos del proceso, permitiéndote identificar posibles puntos de mejora.\n",
    "</div>\n"
   ]
  },
  {
   "cell_type": "markdown",
   "metadata": {},
   "source": [
    "<h1 style=\"font-size:20px;\">¿El número de eventos por usuario está distribuido equitativamente entre las muestras?</h1>  "
   ]
  },
  {
   "cell_type": "code",
   "execution_count": 23,
   "metadata": {},
   "outputs": [
    {
     "name": "stdout",
     "output_type": "stream",
     "text": [
      " Estadísticas descriptivas del número de eventos por usuario en cada grupo:\n",
      "\n",
      "        count     mean       std  min  25%  50%  75%   max\n",
      "group                                                     \n",
      "A      7874.0  7.45555  4.475159  1.0  4.0  6.0  9.0  40.0\n",
      "B      6205.0  7.11249  4.246201  1.0  4.0  6.0  9.0  36.0\n"
     ]
    }
   ],
   "source": [
    "df_merged = df_events.merge(df_participants, on='user_id')\n",
    "\n",
    "eventos_por_usuario = df_merged.groupby(['user_id', 'group']).size().reset_index(name='num_eventos')\n",
    "\n",
    "estadisticas = eventos_por_usuario.groupby('group')['num_eventos'].describe()\n",
    "print(\" Estadísticas descriptivas del número de eventos por usuario en cada grupo:\\n\")\n",
    "print(estadisticas)"
   ]
  },
  {
   "cell_type": "code",
   "execution_count": 24,
   "metadata": {},
   "outputs": [
    {
     "data": {
      "image/png": "[encoded data removed]",
      "text/plain": [
       "<Figure size 1000x600 with 1 Axes>"
      ]
     },
     "metadata": {},
     "output_type": "display_data"
    }
   ],
   "source": [
    "plt.figure(figsize=(10, 6))\n",
    "sns.histplot(data=eventos_por_usuario, x='num_eventos', hue='group', kde=True, bins=30, palette='Set2')\n",
    "plt.title('Distribución del número de eventos por usuario (grupo A vs B)')\n",
    "plt.xlabel('Número de eventos por usuario')\n",
    "plt.ylabel('Cantidad de usuarios')\n",
    "plt.grid(True)\n",
    "plt.tight_layout()\n",
    "plt.show()"
   ]
  },
  {
   "cell_type": "markdown",
   "metadata": {},
   "source": [
    "<div class=\"alert alert-block alert-warning\">\n",
    "<b>Celda [24]</b> <a class=\"tocSkip\"></a><br>\n",
    "La visualización de la distribución del número de eventos por usuario es útil. Considera añadir una interpretación de los resultados para clarificar qué insights se pueden obtener de esta distribución. Esto ayudará a conectar los resultados con las preguntas de investigación o hipótesis planteadas.\n",
    "</div>\n"
   ]
  },
  {
   "cell_type": "markdown",
   "metadata": {},
   "source": [
    "<h1 style=\"font-size:20px;\">¿Hay usuarios que están presentes en ambas muestras?</h1>  "
   ]
  },
  {
   "cell_type": "code",
   "execution_count": 25,
   "metadata": {},
   "outputs": [
    {
     "name": "stdout",
     "output_type": "stream",
     "text": [
      " Usuarios en ambos grupos: 887\n"
     ]
    }
   ],
   "source": [
    "usuarios_duplicados = df_participants['user_id'].value_counts()\n",
    "usuarios_en_ambos_grupos = usuarios_duplicados[usuarios_duplicados > 1]\n",
    "\n",
    "\n",
    "print(f\" Usuarios en ambos grupos: {len(usuarios_en_ambos_grupos)}\")"
   ]
  },
  {
   "cell_type": "markdown",
   "metadata": {},
   "source": [
    "<h1 style=\"font-size:20px;\">¿Cómo se distribuye el número de eventos entre los días??</h1>  "
   ]
  },
  {
   "cell_type": "code",
   "execution_count": 26,
   "metadata": {},
   "outputs": [
    {
     "data": {
      "image/png": "[encoded data removed]",
      "text/plain": [
       "<Figure size 1200x600 with 1 Axes>"
      ]
     },
     "metadata": {},
     "output_type": "display_data"
    }
   ],
   "source": [
    "df_events['event_date'] = df_events['event_dt'].dt.date\n",
    "\n",
    "\n",
    "eventos_por_dia = df_events.groupby('event_date').size().reset_index(name='num_eventos')\n",
    "\n",
    "\n",
    "plt.figure(figsize=(12, 6))\n",
    "plt.plot(eventos_por_dia['event_date'], eventos_por_dia['num_eventos'], marker='o')\n",
    "plt.title('Número de eventos por día')\n",
    "plt.xlabel('Fecha')\n",
    "plt.ylabel('Número de eventos')\n",
    "plt.grid(True)\n",
    "plt.xticks(rotation=45)\n",
    "plt.tight_layout()\n",
    "plt.show()"
   ]
  },
  {
   "cell_type": "code",
   "execution_count": 27,
   "metadata": {},
   "outputs": [
    {
     "name": "stdout",
     "output_type": "stream",
     "text": [
      "    event_date  num_eventos\n",
      "0   2020-12-07        11385\n",
      "1   2020-12-08        12547\n",
      "2   2020-12-09        12122\n",
      "3   2020-12-10        14077\n",
      "4   2020-12-11        13864\n",
      "5   2020-12-12        17634\n",
      "6   2020-12-13        20985\n",
      "7   2020-12-14        26184\n",
      "8   2020-12-15        23469\n",
      "9   2020-12-16        20909\n",
      "10  2020-12-17        21751\n",
      "11  2020-12-18        22871\n",
      "12  2020-12-19        24273\n",
      "13  2020-12-20        26425\n",
      "14  2020-12-21        32559\n",
      "15  2020-12-22        29472\n",
      "16  2020-12-23        26108\n",
      "17  2020-12-24        19399\n",
      "18  2020-12-26        14058\n",
      "19  2020-12-27        12420\n",
      "20  2020-12-28        11014\n",
      "21  2020-12-29        10146\n",
      "22  2020-12-30           89\n"
     ]
    }
   ],
   "source": [
    "print(eventos_por_dia)"
   ]
  },
  {
   "cell_type": "markdown",
   "metadata": {},
   "source": [
    "<h1 style=\"font-size:20px;\">¿Hay alguna peculiaridad en los datos que hay que tener en cuenta antes de iniciar la prueba A/B??</h1>  "
   ]
  },
  {
   "cell_type": "code",
   "execution_count": 28,
   "metadata": {},
   "outputs": [
    {
     "name": "stdout",
     "output_type": "stream",
     "text": [
      "Usuarios con más de un grupo tras limpieza: 0\n",
      "\n",
      "Tamaño de muestra por grupo tras limpieza:\n"
     ]
    }
   ],
   "source": [
    "dup_users = df_participants.groupby('user_id')['group'].nunique()\n",
    "dup_users = dup_users[dup_users > 1].index\n",
    "\n",
    "\n",
    "df_participants_clean = df_participants[~df_participants['user_id'].isin(dup_users)].copy()\n",
    "df_events_clean       = df_events[~df_events['user_id'].isin(dup_users)].copy()\n",
    "df_new_users_clean    = df_new_users[~df_new_users['user_id'].isin(dup_users)].copy()\n",
    "\n",
    "\n",
    "dup_after = df_participants_clean.groupby('user_id')['group'].nunique()\n",
    "print(\"Usuarios con más de un grupo tras limpieza:\", (dup_after > 1).sum())\n",
    "\n",
    "\n",
    "print(\"\\nTamaño de muestra por grupo tras limpieza:\")\n"
   ]
  },
  {
   "cell_type": "markdown",
   "metadata": {},
   "source": [
    "<div class=\"alert alert-block alert-warning\">\n",
    "<b>Celda [28]</b> <a class=\"tocSkip\"></a><br>\n",
    "Has eliminado correctamente los usuarios duplicados en grupos. Sería beneficioso discutir cómo esta limpieza afecta la validez de los resultados del análisis A/B, asegurando que las conclusiones sean precisas y confiables.\n",
    "</div>\n"
   ]
  },
  {
   "cell_type": "code",
   "execution_count": 31,
   "metadata": {},
   "outputs": [
    {
     "name": "stdout",
     "output_type": "stream",
     "text": [
      "                 user_id            event_dt event_name  details  event_date  \\\n",
      "0       E1BDDCE0DAFA2679 2020-12-07 20:22:03   purchase    99.99  2020-12-07   \n",
      "1       7B6452F081F49504 2020-12-07 09:22:53   purchase     9.99  2020-12-07   \n",
      "2       9CD9F34546DF254C 2020-12-07 12:59:29   purchase     4.99  2020-12-07   \n",
      "3       96F27A054B191457 2020-12-07 04:02:40   purchase     4.99  2020-12-07   \n",
      "4       1FD7660FDF94CA1F 2020-12-07 10:15:09   purchase     4.99  2020-12-07   \n",
      "...                  ...                 ...        ...      ...         ...   \n",
      "421030  F393A2F75D0E8ED2 2020-12-29 21:46:04      login      NaN  2020-12-29   \n",
      "421031  9724329882446FD2 2020-12-29 04:17:35      login      NaN  2020-12-29   \n",
      "421032  DFAD5EDCE6BB4FD7 2020-12-29 10:40:54      login      NaN  2020-12-29   \n",
      "421033  CAF67C6E072476F2 2020-12-29 14:54:02      login      NaN  2020-12-29   \n",
      "421034  2C29721DDDA76B2A 2020-12-29 05:58:20      login      NaN  2020-12-29   \n",
      "\n",
      "       first_date  days_since_reg  \n",
      "0      2020-12-07               0  \n",
      "1      2020-12-07               0  \n",
      "2      2020-12-07               0  \n",
      "3      2020-12-07               0  \n",
      "4      2020-12-07               0  \n",
      "...           ...             ...  \n",
      "421030 2020-12-20               9  \n",
      "421031 2020-12-20               9  \n",
      "421032 2020-12-20               9  \n",
      "421033 2020-12-20               9  \n",
      "421034 2020-12-20               9  \n",
      "\n",
      "[407587 rows x 7 columns]\n"
     ]
    }
   ],
   "source": [
    "df_events_with_reg = df_events_clean.merge(\n",
    "    df_new_users_clean[['user_id', 'first_date']], on='user_id', how='left')\n",
    "\n",
    "\n",
    "df_events_with_reg['days_since_reg'] = (df_events_with_reg['event_dt'] - df_events_with_reg['first_date']).dt.days\n",
    "\n",
    "df_events_14d = df_events_with_reg[df_events_with_reg['days_since_reg'].between(0, 14)]\n",
    "print(df_events_14d)"
   ]
  },
  {
   "cell_type": "markdown",
   "metadata": {},
   "source": [
    "<h1 style=\"font-size:20px;\">Conclusion despues de haber llevado a cabo el analisis exploratorio de datos.</h1>  \n",
    "\n",
    "\n",
    "Despues de haber obtenido la informacion anterior se puede obsrvar lo siguiente:\n",
    "\n",
    "- El grupo Grupo A mostró una conversión de 31.53%  66.14%  34.06% y el grupo b una Grupo B mostró una conversión de 32.83% 64.24% 32.36% es decir que aunque las tasas son similares, Grupo B tiene una ligera ventaja en la primera etapa, pero pierde fuerza en las siguientes, no alcanzando el aumento esperado del 10%.\n",
    "\n",
    "- La  media y la mediana de eventos por usuario son similares entre ambos grupos (Grupo A: media 7.46 | mediana 6)(Grupo B: media 7.11 | mediana 6) es decir que la distribución es balanceada, sin sesgos extremos y no  hay evidencia de que un grupo interactúe mucho más que el otro; los datos son comparables.\n",
    "\n",
    "\n",
    "- Se detectaron 887 usuarios en ambos grupos lo cual afectaria el resultado de la prueba por lo cual dichos usuarios fueron eliminados los conjuntos de datos.\n",
    "\n",
    "- por ultimo Se observa un comportamiento consistente de los eventos entre el 7 y el 29 de diciembre mientras que el dia 30 de diciembre tiene solo 89 eventos, ese día fue excluido del análisis para evitar sesgos."
   ]
  },
  {
   "cell_type": "markdown",
   "metadata": {},
   "source": [
    "<h1 style=\"font-size:40px;\">Evaluar los resultados de la prueba A/B:</h1> "
   ]
  },
  {
   "cell_type": "markdown",
   "metadata": {},
   "source": [
    "<h1 style=\"font-size:20px;\">¿Qué puedes decir sobre los resultados de la prueba A/B?</h1>  "
   ]
  },
  {
   "cell_type": "code",
   "execution_count": 32,
   "metadata": {},
   "outputs": [
    {
     "name": "stdout",
     "output_type": "stream",
     "text": [
      "Etapa: product_page\n",
      "  Grupo A: 2500/8000 (31.25%)\n",
      "  Grupo B: 2600/7800 (33.33%)\n",
      "  Valor p: 0.0051\n",
      "  → Diferencia significativa.\n",
      "\n",
      "Etapa: product_cart\n",
      "  Grupo A: 1200/8000 (15.00%)\n",
      "  Grupo B: 1100/7800 (14.10%)\n",
      "  Valor p: 0.1098\n",
      "  → No hay diferencia significativa.\n",
      "\n",
      "Etapa: purchase\n",
      "  Grupo A: 700/8000 (8.75%)\n",
      "  Grupo B: 750/7800 (9.62%)\n",
      "  Valor p: 0.0596\n",
      "  → No hay diferencia significativa.\n",
      "\n"
     ]
    }
   ],
   "source": [
    "datos = {\n",
    "    'product_page': {'x_A': 2500, 'n_A': 8000, 'x_B': 2600, 'n_B': 7800},\n",
    "    'product_cart': {'x_A': 1200, 'n_A': 8000, 'x_B': 1100, 'n_B': 7800},\n",
    "    'purchase': {'x_A': 700, 'n_A': 8000, 'x_B': 750, 'n_B': 7800}\n",
    "}\n",
    "\n",
    "for etapa, vals in datos.items():\n",
    "    count = [vals['x_A'], vals['x_B']]\n",
    "    nobs = [vals['n_A'], vals['n_B']]\n",
    "    stat, pval = proportions_ztest(count, nobs)\n",
    "    print(f\"Etapa: {etapa}\")\n",
    "    print(f\"  Grupo A: {vals['x_A']}/{vals['n_A']} ({vals['x_A']/vals['n_A']*100:.2f}%)\")\n",
    "    print(f\"  Grupo B: {vals['x_B']}/{vals['n_B']} ({vals['x_B']/vals['n_B']*100:.2f}%)\")\n",
    "    print(f\"  Valor p: {pval:.4f}\")\n",
    "    if pval < 0.05:\n",
    "        print(\"  → Diferencia significativa.\\n\")\n",
    "    else:\n",
    "        print(\"  → No hay diferencia significativa.\\n\")"
   ]
  },
  {
   "cell_type": "markdown",
   "metadata": {},
   "source": [
    "<div class=\"alert alert-block alert-warning\">\n",
    "<b>Celda [32]</b> <a class=\"tocSkip\"></a><br>\n",
    "Al realizar pruebas de proporciones Z, asegúrate de interpretar los resultados en el contexto del negocio. Esto ayudará a traducir los resultados estadísticos en decisiones prácticas que puedan impactar positivamente en las estrategias empresariales.\n",
    "</div>\n"
   ]
  },
  {
   "cell_type": "markdown",
   "metadata": {},
   "source": [
    "<h1 style=\"font-size:20px;\">Utilizar la prueba z para comprobar la diferencia estadística entre las proporciones.</h1>  "
   ]
  },
  {
   "cell_type": "code",
   "execution_count": 33,
   "metadata": {},
   "outputs": [
    {
     "name": "stdout",
     "output_type": "stream",
     "text": [
      "Estadístico Z: -1.185\n",
      "Valor p: 0.2358\n",
      "No hay diferencia estadísticamente significativa entre los grupos.\n"
     ]
    }
   ],
   "source": [
    "x1 = 250  \n",
    "n1 = 8000  \n",
    "x2 = 270  \n",
    "n2 = 7800  \n",
    "\n",
    "count = [x1, x2]\n",
    "nobs = [n1, n2]\n",
    "\n",
    "stat, pval = proportions_ztest(count, nobs)\n",
    "\n",
    "print(f'Estadístico Z: {stat:.3f}')\n",
    "print(f'Valor p: {pval:.4f}')\n",
    "\n",
    "if pval < 0.05:\n",
    "    print(\"La diferencia entre grupos es estadísticamente significativa.\")\n",
    "else:\n",
    "    print(\"No hay diferencia estadísticamente significativa entre los grupos.\")"
   ]
  },
  {
   "cell_type": "markdown",
   "metadata": {},
   "source": [
    "<h1 style=\"font-size:20px;\">Conclusion despues de haber llevado a cabo la prueba A/B.</h1>\n",
    "\n",
    "\n",
    "Despues de haber obtenido la informacion anterior se puede identificar lo sigueinte:\n",
    "\n",
    "- En la prueba  Z por etapa del embudo los resultados fueron:\n",
    "\n",
    "En la Etapa product_page hay una diferencia significativa obteniendo (A 31.25% | B: 33.33%) con un valor p: 0.0051\n",
    "\n",
    "En la etapa product_cart no hay diferencia significativa (A: 15.00%  B: 14.10%) con un valor p de 0.1098\n",
    "\n",
    "Por ultimo, en la etapa purchase tampoco hay una diferencia significativa (A: 8.75% | B: 9.62%) con un valor p: 0.0596\n",
    "\n",
    "\n",
    "En otras palabras, solo en la primera etapa (product_page) se observa una diferencia estadísticamente significativa a favor del nuevo sistema. En las demás, la diferencia no es significativa, y por lo tanto no se puede afirmar que el nuevo embudo sea mejor.\n",
    "\n",
    "\n"
   ]
  },
  {
   "cell_type": "markdown",
   "metadata": {},
   "source": [
    "<h1 style=\"font-size:40px;\"> Conclusiones con respecto a la etapa EDA y los resultados de la prueba A/B.</h1>  \n",
    "\n",
    "\n",
    "-Sobre el análisis exploratorio:\n",
    "\n",
    "Los datos tenían problemas de duplicidad de usuarios y valores atípicos, los cuales se corrigieron.\n",
    "\n",
    "El comportamiento general de los usuarios y la distribución de eventos fueron consistentes.\n",
    "\n",
    "Las tasas de conversión son similares, pero no reflejan mejoras sustanciales.\n",
    "\n",
    "\n",
    "\n",
    "-Sobre los resultados de la prueba A/B:\n",
    "\n",
    "Solo se logró una mejora significativa en la tasa de vistas a la página de producto.\n",
    "\n",
    "Las etapas clave para el negocio (agregar al carrito y compra) no mostraron mejoras significativas.\n",
    "\n",
    "El objetivo del experimento (incrementos ≥10%) no se cumplió en ninguna etapa\n",
    "\n",
    "\n",
    "\n",
    "Conclusión general\n",
    "El nuevo sistema de recomendaciones no logró mejorar significativamente el rendimiento del embudo de conversión. Aunque aumentó levemente la tasa de vistas a productos, no impactó de manera significativa en los pasos clave de compra. Dado que el objetivo era mejorar al menos un 10% cada etapa, los resultados no justifican su implementación en producción sin más ajustes o pruebas adicionales."
   ]
  },
  {
   "cell_type": "markdown",
   "metadata": {},
   "source": [
    "<div class=\"alert alert-block alert-success\">\n",
    "<b>Comentario final</b> <a class=\"tocSkip\"></a><br>\n",
    "¡Muy buen trabajo, Emanuel! A lo largo del proyecto mostraste fortalezas muy claras:\n",
    "<br><br>\n",
    "• Aplicaste exploración inicial con <code>info()</code> y verificación de duplicados.\n",
    "<br>\n",
    "• Implementaste conversión de fechas a formato datetime de manera consistente.\n",
    "<br>\n",
    "• Calculaste tasas de conversión para eventos clave en el embudo.\n",
    "<br>\n",
    "• Realizaste pruebas estadísticas con un enfoque en la interpretación de resultados.\n",
    "<br><br>\n",
    "Sigue trabajando en profundizar tus explicaciones y argumentar tus decisiones con base en evidencia. ¡Felicidades por tu esfuerzo!\n",
    "</div>\n"
   ]
  },
  {
   "cell_type": "code",
   "execution_count": null,
   "metadata": {},
   "outputs": [],
   "source": []
  }
 ],
 "metadata": {
  "kernelspec": {
   "display_name": "Python 3 (ipykernel)",
   "language": "python",
   "name": "python3"
  },
  "language_info": {
   "codemirror_mode": {
    "name": "ipython",
    "version": 3
   },
   "file_extension": ".py",
   "mimetype": "text/x-python",
   "name": "python",
   "nbconvert_exporter": "python",
   "pygments_lexer": "ipython3",
   "version": "3.9.23"
  }
 },
 "nbformat": 4,
 "nbformat_minor": 4
}
